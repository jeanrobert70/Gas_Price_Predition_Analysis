{
 "cells": [
  {
   "cell_type": "markdown",
   "id": "09b9cec8",
   "metadata": {},
   "source": [
    "# Introduction\n",
    "\n",
    "As of August 8, 2022, gas prices have been declining.  But will it continue to decline? The rising cost of oil is\n",
    "due to high demand and limite supply.  As everyone else, I have felt the increasing cost of gas at the pump even though I drive\n",
    "a prius. What is the cost of gas expected to be next year?\n",
    "\n",
    "This project is a personal project and the 6 steps of Data Analysis from Gooogle Data Analytics Professional Certificate is used to pesent this analysis."
   ]
  },
  {
   "cell_type": "markdown",
   "id": "4817dfdd",
   "metadata": {},
   "source": [
    "# Phase One: Ask\n",
    "\n",
    "### 1.0 Background \n",
    "\n",
    "For the first time in US history, gas prices hit $5 a gallon on average this summer. It appears it was a perfect storm\n",
    "made possible caused by a combination of the aftermath of the COVID 19 pandemic, increase travel, and the war in \n",
    "the Ukraine.  As a consumer, I would like to know gas price trends in the US and where may we be headed?"
   ]
  },
  {
   "cell_type": "markdown",
   "id": "8de290c0",
   "metadata": {},
   "source": [
    "### 1.2 Objectives & Questions to Answer:\n",
    "    \n",
    "Analyze gas price data from U.S. Energy Information Admnistration website to gain insights into \n",
    "recent price changes relative to historical prices?  "
   ]
  },
  {
   "cell_type": "markdown",
   "id": "7d9e332d",
   "metadata": {},
   "source": [
    "# Phase Two: Prepare"
   ]
  },
  {
   "cell_type": "markdown",
   "id": "b50627e9",
   "metadata": {},
   "source": [
    "### 2.1 Information on Data Set:\n",
    "\n",
    "1. The data is publicly available on U.S. Energy Information Administration website: \n",
    "https://www.eia.gov/dnav/pet/hist/LeafHandler.ashx?n=PET&s=EMM_EPM0_PTE_SFL_DPG&f=M\n",
    "\n",
    "2. Only gasoline prices is analyzed and analysis does not include crude oil, heating oil, diesel, propane, or other liquids such as biofuels and natural gas liquids.\n",
    "\n",
    "3. Datset set has three attributes: Month, Year, Price"
   ]
  },
  {
   "cell_type": "markdown",
   "id": "b2d2abcd",
   "metadata": {},
   "source": [
    "### 2.2 Is Data **R**eliable, **O**riginal, **C**omprehensive, **C**urrent, and **C**ited.\n",
    "\n",
    "1. Reliable - High - Reliable as gas prices is monitored by various indicies and public available data\n",
    "2. Original - High - Prices are determined by the market and does not involve Third party questionairres\n",
    "3. Comprehensive - High - Parameters are timeseries historial gas prices\n",
    "4. Current - High - Data is historical data up to last month\n",
    "5. Cited - LOW - Data collected from U.S. Energy Information Administration website\n",
    "\n",
    "Overall, the dataset is considered good quality data and it is recommended to produce trend insights and travel recommendations based on this data."
   ]
  },
  {
   "cell_type": "markdown",
   "id": "af5029f1",
   "metadata": {},
   "source": [
    "# Phase Three: Process\n",
    "We are using Python to prepare and process the data."
   ]
  },
  {
   "cell_type": "markdown",
   "id": "607388bc",
   "metadata": {},
   "source": [
    "### 3.1 Preparing the Environment"
   ]
  },
  {
   "cell_type": "code",
   "execution_count": 3,
   "id": "6b8c3f09",
   "metadata": {},
   "outputs": [],
   "source": [
    "import pandas as pd\n",
    "import numpy as np\n",
    "import matplotlib.pyplot as plt\n",
    "%matplotlib inline\n",
    "import seaborn as sns\n",
    "sns.set()"
   ]
  },
  {
   "cell_type": "markdown",
   "id": "3a3178f6",
   "metadata": {},
   "source": [
    "### 3.2 Import data set"
   ]
  },
  {
   "cell_type": "code",
   "execution_count": 6,
   "id": "c3664140",
   "metadata": {
    "scrolled": false
   },
   "outputs": [
    {
     "data": {
      "text/html": [
       "<div>\n",
       "<style scoped>\n",
       "    .dataframe tbody tr th:only-of-type {\n",
       "        vertical-align: middle;\n",
       "    }\n",
       "\n",
       "    .dataframe tbody tr th {\n",
       "        vertical-align: top;\n",
       "    }\n",
       "\n",
       "    .dataframe thead th {\n",
       "        text-align: right;\n",
       "    }\n",
       "</style>\n",
       "<table border=\"1\" class=\"dataframe\">\n",
       "  <thead>\n",
       "    <tr style=\"text-align: right;\">\n",
       "      <th></th>\n",
       "      <th>Month</th>\n",
       "      <th>Florida;All;Grades;All;Formulations;Retail;Gasoline;Prices;Dollars;per;Gallon</th>\n",
       "    </tr>\n",
       "  </thead>\n",
       "  <tbody>\n",
       "    <tr>\n",
       "      <th>0</th>\n",
       "      <td>Jun;2022</td>\n",
       "      <td>4.809;;;;;;;;;</td>\n",
       "    </tr>\n",
       "    <tr>\n",
       "      <th>1</th>\n",
       "      <td>May;2022</td>\n",
       "      <td>4.428;;;;;;;;;</td>\n",
       "    </tr>\n",
       "    <tr>\n",
       "      <th>2</th>\n",
       "      <td>Apr;2022</td>\n",
       "      <td>4.105;;;;;;;;;</td>\n",
       "    </tr>\n",
       "    <tr>\n",
       "      <th>3</th>\n",
       "      <td>Mar;2022</td>\n",
       "      <td>4.186;;;;;;;;;</td>\n",
       "    </tr>\n",
       "    <tr>\n",
       "      <th>4</th>\n",
       "      <td>Feb;2022</td>\n",
       "      <td>3.52;;;;;;;;;</td>\n",
       "    </tr>\n",
       "  </tbody>\n",
       "</table>\n",
       "</div>"
      ],
      "text/plain": [
       "      Month  \\\n",
       "0  Jun;2022   \n",
       "1  May;2022   \n",
       "2  Apr;2022   \n",
       "3  Mar;2022   \n",
       "4  Feb;2022   \n",
       "\n",
       "  Florida;All;Grades;All;Formulations;Retail;Gasoline;Prices;Dollars;per;Gallon  \n",
       "0                                     4.809;;;;;;;;;                             \n",
       "1                                     4.428;;;;;;;;;                             \n",
       "2                                     4.105;;;;;;;;;                             \n",
       "3                                     4.186;;;;;;;;;                             \n",
       "4                                      3.52;;;;;;;;;                             "
      ]
     },
     "execution_count": 6,
     "metadata": {},
     "output_type": "execute_result"
    }
   ],
   "source": [
    "data = pd.read_csv(\"Florida_All_Grades_All_Formulations_Retail_Gasoline_Prices.csv\")"
   ]
  },
  {
   "cell_type": "markdown",
   "id": "ee97f617",
   "metadata": {},
   "source": [
    "### 3.3 View first five rows, shape, and last five rows of dataset"
   ]
  },
  {
   "cell_type": "code",
   "execution_count": 8,
   "id": "a073b979",
   "metadata": {},
   "outputs": [
    {
     "data": {
      "text/html": [
       "<div>\n",
       "<style scoped>\n",
       "    .dataframe tbody tr th:only-of-type {\n",
       "        vertical-align: middle;\n",
       "    }\n",
       "\n",
       "    .dataframe tbody tr th {\n",
       "        vertical-align: top;\n",
       "    }\n",
       "\n",
       "    .dataframe thead th {\n",
       "        text-align: right;\n",
       "    }\n",
       "</style>\n",
       "<table border=\"1\" class=\"dataframe\">\n",
       "  <thead>\n",
       "    <tr style=\"text-align: right;\">\n",
       "      <th></th>\n",
       "      <th>Month</th>\n",
       "      <th>Florida;All;Grades;All;Formulations;Retail;Gasoline;Prices;Dollars;per;Gallon</th>\n",
       "    </tr>\n",
       "  </thead>\n",
       "  <tbody>\n",
       "    <tr>\n",
       "      <th>0</th>\n",
       "      <td>Jun;2022</td>\n",
       "      <td>4.809;;;;;;;;;</td>\n",
       "    </tr>\n",
       "    <tr>\n",
       "      <th>1</th>\n",
       "      <td>May;2022</td>\n",
       "      <td>4.428;;;;;;;;;</td>\n",
       "    </tr>\n",
       "    <tr>\n",
       "      <th>2</th>\n",
       "      <td>Apr;2022</td>\n",
       "      <td>4.105;;;;;;;;;</td>\n",
       "    </tr>\n",
       "    <tr>\n",
       "      <th>3</th>\n",
       "      <td>Mar;2022</td>\n",
       "      <td>4.186;;;;;;;;;</td>\n",
       "    </tr>\n",
       "    <tr>\n",
       "      <th>4</th>\n",
       "      <td>Feb;2022</td>\n",
       "      <td>3.52;;;;;;;;;</td>\n",
       "    </tr>\n",
       "  </tbody>\n",
       "</table>\n",
       "</div>"
      ],
      "text/plain": [
       "      Month  \\\n",
       "0  Jun;2022   \n",
       "1  May;2022   \n",
       "2  Apr;2022   \n",
       "3  Mar;2022   \n",
       "4  Feb;2022   \n",
       "\n",
       "  Florida;All;Grades;All;Formulations;Retail;Gasoline;Prices;Dollars;per;Gallon  \n",
       "0                                     4.809;;;;;;;;;                             \n",
       "1                                     4.428;;;;;;;;;                             \n",
       "2                                     4.105;;;;;;;;;                             \n",
       "3                                     4.186;;;;;;;;;                             \n",
       "4                                      3.52;;;;;;;;;                             "
      ]
     },
     "execution_count": 8,
     "metadata": {},
     "output_type": "execute_result"
    }
   ],
   "source": [
    "#First five rows\n",
    "data.head()"
   ]
  },
  {
   "cell_type": "code",
   "execution_count": 12,
   "id": "6cd3bb12",
   "metadata": {
    "scrolled": true
   },
   "outputs": [
    {
     "name": "stdout",
     "output_type": "stream",
     "text": [
      "Number of rows: 229\n",
      "Number of columns: 2\n"
     ]
    }
   ],
   "source": [
    "#View shape of dataset\n",
    "print(f\"Number of rows: {data.shape[0]}\")\n",
    "print(f\"Number of columns: {data.shape[1]}\")"
   ]
  },
  {
   "cell_type": "code",
   "execution_count": 10,
   "id": "5711daed",
   "metadata": {},
   "outputs": [
    {
     "data": {
      "text/html": [
       "<div>\n",
       "<style scoped>\n",
       "    .dataframe tbody tr th:only-of-type {\n",
       "        vertical-align: middle;\n",
       "    }\n",
       "\n",
       "    .dataframe tbody tr th {\n",
       "        vertical-align: top;\n",
       "    }\n",
       "\n",
       "    .dataframe thead th {\n",
       "        text-align: right;\n",
       "    }\n",
       "</style>\n",
       "<table border=\"1\" class=\"dataframe\">\n",
       "  <thead>\n",
       "    <tr style=\"text-align: right;\">\n",
       "      <th></th>\n",
       "      <th>Month</th>\n",
       "      <th>Florida;All;Grades;All;Formulations;Retail;Gasoline;Prices;Dollars;per;Gallon</th>\n",
       "    </tr>\n",
       "  </thead>\n",
       "  <tbody>\n",
       "    <tr>\n",
       "      <th>224</th>\n",
       "      <td>Oct;2003</td>\n",
       "      <td>1.575;;;;;;;;;</td>\n",
       "    </tr>\n",
       "    <tr>\n",
       "      <th>225</th>\n",
       "      <td>Sep;2003</td>\n",
       "      <td>1.679;;;;;;;;;</td>\n",
       "    </tr>\n",
       "    <tr>\n",
       "      <th>226</th>\n",
       "      <td>Aug;2003</td>\n",
       "      <td>1.654;;;;;;;;;</td>\n",
       "    </tr>\n",
       "    <tr>\n",
       "      <th>227</th>\n",
       "      <td>Jul;2003</td>\n",
       "      <td>1.561;;;;;;;;;</td>\n",
       "    </tr>\n",
       "    <tr>\n",
       "      <th>228</th>\n",
       "      <td>Jun;2003</td>\n",
       "      <td>1.512;;;;;;;;;</td>\n",
       "    </tr>\n",
       "  </tbody>\n",
       "</table>\n",
       "</div>"
      ],
      "text/plain": [
       "        Month  \\\n",
       "224  Oct;2003   \n",
       "225  Sep;2003   \n",
       "226  Aug;2003   \n",
       "227  Jul;2003   \n",
       "228  Jun;2003   \n",
       "\n",
       "    Florida;All;Grades;All;Formulations;Retail;Gasoline;Prices;Dollars;per;Gallon  \n",
       "224                                     1.575;;;;;;;;;                             \n",
       "225                                     1.679;;;;;;;;;                             \n",
       "226                                     1.654;;;;;;;;;                             \n",
       "227                                     1.561;;;;;;;;;                             \n",
       "228                                     1.512;;;;;;;;;                             "
      ]
     },
     "execution_count": 10,
     "metadata": {},
     "output_type": "execute_result"
    }
   ],
   "source": [
    "#view last five rows of dataset\n",
    "data.tail()"
   ]
  },
  {
   "cell_type": "markdown",
   "id": "765629aa",
   "metadata": {},
   "source": [
    "## Data Cleaning\n",
    "1. Observe and familiarize with data\n",
    "2. Check for null or missing values\n",
    "3. Perform sanity check of data\n",
    "4. Convert string values to numerical values"
   ]
  },
  {
   "cell_type": "code",
   "execution_count": 19,
   "id": "2f73ce5a",
   "metadata": {},
   "outputs": [
    {
     "data": {
      "text/html": [
       "<div>\n",
       "<style scoped>\n",
       "    .dataframe tbody tr th:only-of-type {\n",
       "        vertical-align: middle;\n",
       "    }\n",
       "\n",
       "    .dataframe tbody tr th {\n",
       "        vertical-align: top;\n",
       "    }\n",
       "\n",
       "    .dataframe thead th {\n",
       "        text-align: right;\n",
       "    }\n",
       "</style>\n",
       "<table border=\"1\" class=\"dataframe\">\n",
       "  <thead>\n",
       "    <tr style=\"text-align: right;\">\n",
       "      <th></th>\n",
       "      <th>Month</th>\n",
       "      <th>Florida;All;Grades;All;Formulations;Retail;Gasoline;Prices;Dollars;per;Gallon</th>\n",
       "    </tr>\n",
       "  </thead>\n",
       "  <tbody>\n",
       "    <tr>\n",
       "      <th>0</th>\n",
       "      <td>Jun;2022</td>\n",
       "      <td>4.809;;;;;;;;;</td>\n",
       "    </tr>\n",
       "    <tr>\n",
       "      <th>1</th>\n",
       "      <td>May;2022</td>\n",
       "      <td>4.428;;;;;;;;;</td>\n",
       "    </tr>\n",
       "    <tr>\n",
       "      <th>2</th>\n",
       "      <td>Apr;2022</td>\n",
       "      <td>4.105;;;;;;;;;</td>\n",
       "    </tr>\n",
       "    <tr>\n",
       "      <th>3</th>\n",
       "      <td>Mar;2022</td>\n",
       "      <td>4.186;;;;;;;;;</td>\n",
       "    </tr>\n",
       "    <tr>\n",
       "      <th>4</th>\n",
       "      <td>Feb;2022</td>\n",
       "      <td>3.52;;;;;;;;;</td>\n",
       "    </tr>\n",
       "  </tbody>\n",
       "</table>\n",
       "</div>"
      ],
      "text/plain": [
       "      Month  \\\n",
       "0  Jun;2022   \n",
       "1  May;2022   \n",
       "2  Apr;2022   \n",
       "3  Mar;2022   \n",
       "4  Feb;2022   \n",
       "\n",
       "  Florida;All;Grades;All;Formulations;Retail;Gasoline;Prices;Dollars;per;Gallon  \n",
       "0                                     4.809;;;;;;;;;                             \n",
       "1                                     4.428;;;;;;;;;                             \n",
       "2                                     4.105;;;;;;;;;                             \n",
       "3                                     4.186;;;;;;;;;                             \n",
       "4                                      3.52;;;;;;;;;                             "
      ]
     },
     "execution_count": 19,
     "metadata": {},
     "output_type": "execute_result"
    }
   ],
   "source": [
    "# Make copy of data set before cleaning it. \n",
    "df = data.copy()\n",
    "df.head()"
   ]
  },
  {
   "cell_type": "code",
   "execution_count": 20,
   "id": "7bfedea1",
   "metadata": {
    "scrolled": true
   },
   "outputs": [],
   "source": [
    "# Split Month and Year into their own columns\n",
    "df[[\"Month\", \"Year\"]] = df[\"Month\"].str.split(\";\", expand= True)"
   ]
  },
  {
   "cell_type": "code",
   "execution_count": 21,
   "id": "e469b1bf",
   "metadata": {
    "scrolled": false
   },
   "outputs": [
    {
     "data": {
      "text/html": [
       "<div>\n",
       "<style scoped>\n",
       "    .dataframe tbody tr th:only-of-type {\n",
       "        vertical-align: middle;\n",
       "    }\n",
       "\n",
       "    .dataframe tbody tr th {\n",
       "        vertical-align: top;\n",
       "    }\n",
       "\n",
       "    .dataframe thead th {\n",
       "        text-align: right;\n",
       "    }\n",
       "</style>\n",
       "<table border=\"1\" class=\"dataframe\">\n",
       "  <thead>\n",
       "    <tr style=\"text-align: right;\">\n",
       "      <th></th>\n",
       "      <th>Month</th>\n",
       "      <th>Florida;All;Grades;All;Formulations;Retail;Gasoline;Prices;Dollars;per;Gallon</th>\n",
       "      <th>Year</th>\n",
       "    </tr>\n",
       "  </thead>\n",
       "  <tbody>\n",
       "    <tr>\n",
       "      <th>0</th>\n",
       "      <td>Jun</td>\n",
       "      <td>4.809;;;;;;;;;</td>\n",
       "      <td>2022</td>\n",
       "    </tr>\n",
       "    <tr>\n",
       "      <th>1</th>\n",
       "      <td>May</td>\n",
       "      <td>4.428;;;;;;;;;</td>\n",
       "      <td>2022</td>\n",
       "    </tr>\n",
       "    <tr>\n",
       "      <th>2</th>\n",
       "      <td>Apr</td>\n",
       "      <td>4.105;;;;;;;;;</td>\n",
       "      <td>2022</td>\n",
       "    </tr>\n",
       "    <tr>\n",
       "      <th>3</th>\n",
       "      <td>Mar</td>\n",
       "      <td>4.186;;;;;;;;;</td>\n",
       "      <td>2022</td>\n",
       "    </tr>\n",
       "    <tr>\n",
       "      <th>4</th>\n",
       "      <td>Feb</td>\n",
       "      <td>3.52;;;;;;;;;</td>\n",
       "      <td>2022</td>\n",
       "    </tr>\n",
       "  </tbody>\n",
       "</table>\n",
       "</div>"
      ],
      "text/plain": [
       "  Month  \\\n",
       "0   Jun   \n",
       "1   May   \n",
       "2   Apr   \n",
       "3   Mar   \n",
       "4   Feb   \n",
       "\n",
       "  Florida;All;Grades;All;Formulations;Retail;Gasoline;Prices;Dollars;per;Gallon  \\\n",
       "0                                     4.809;;;;;;;;;                              \n",
       "1                                     4.428;;;;;;;;;                              \n",
       "2                                     4.105;;;;;;;;;                              \n",
       "3                                     4.186;;;;;;;;;                              \n",
       "4                                      3.52;;;;;;;;;                              \n",
       "\n",
       "   Year  \n",
       "0  2022  \n",
       "1  2022  \n",
       "2  2022  \n",
       "3  2022  \n",
       "4  2022  "
      ]
     },
     "execution_count": 21,
     "metadata": {},
     "output_type": "execute_result"
    }
   ],
   "source": [
    "df.head()"
   ]
  },
  {
   "cell_type": "code",
   "execution_count": 22,
   "id": "3bd01082",
   "metadata": {},
   "outputs": [],
   "source": [
    "# Lets change the name of the price column\n",
    "df.rename({\"Florida;All;Grades;All;Formulations;Retail;Gasoline;Prices;Dollars;per;Gallon\": \"Price\"}, axis=1, inplace= True)"
   ]
  },
  {
   "cell_type": "code",
   "execution_count": 23,
   "id": "0a23abcc",
   "metadata": {},
   "outputs": [],
   "source": [
    "# Remove the semicolons from the price column\n",
    "df[\"Price\"] = df[\"Price\"].apply(lambda x: x.split(\";\")[0])"
   ]
  },
  {
   "cell_type": "code",
   "execution_count": 24,
   "id": "682a1f8a",
   "metadata": {},
   "outputs": [
    {
     "data": {
      "text/html": [
       "<div>\n",
       "<style scoped>\n",
       "    .dataframe tbody tr th:only-of-type {\n",
       "        vertical-align: middle;\n",
       "    }\n",
       "\n",
       "    .dataframe tbody tr th {\n",
       "        vertical-align: top;\n",
       "    }\n",
       "\n",
       "    .dataframe thead th {\n",
       "        text-align: right;\n",
       "    }\n",
       "</style>\n",
       "<table border=\"1\" class=\"dataframe\">\n",
       "  <thead>\n",
       "    <tr style=\"text-align: right;\">\n",
       "      <th></th>\n",
       "      <th>Month</th>\n",
       "      <th>Price</th>\n",
       "      <th>Year</th>\n",
       "    </tr>\n",
       "  </thead>\n",
       "  <tbody>\n",
       "    <tr>\n",
       "      <th>0</th>\n",
       "      <td>Jun</td>\n",
       "      <td>4.809</td>\n",
       "      <td>2022</td>\n",
       "    </tr>\n",
       "    <tr>\n",
       "      <th>1</th>\n",
       "      <td>May</td>\n",
       "      <td>4.428</td>\n",
       "      <td>2022</td>\n",
       "    </tr>\n",
       "    <tr>\n",
       "      <th>2</th>\n",
       "      <td>Apr</td>\n",
       "      <td>4.105</td>\n",
       "      <td>2022</td>\n",
       "    </tr>\n",
       "    <tr>\n",
       "      <th>3</th>\n",
       "      <td>Mar</td>\n",
       "      <td>4.186</td>\n",
       "      <td>2022</td>\n",
       "    </tr>\n",
       "    <tr>\n",
       "      <th>4</th>\n",
       "      <td>Feb</td>\n",
       "      <td>3.52</td>\n",
       "      <td>2022</td>\n",
       "    </tr>\n",
       "    <tr>\n",
       "      <th>...</th>\n",
       "      <td>...</td>\n",
       "      <td>...</td>\n",
       "      <td>...</td>\n",
       "    </tr>\n",
       "    <tr>\n",
       "      <th>224</th>\n",
       "      <td>Oct</td>\n",
       "      <td>1.575</td>\n",
       "      <td>2003</td>\n",
       "    </tr>\n",
       "    <tr>\n",
       "      <th>225</th>\n",
       "      <td>Sep</td>\n",
       "      <td>1.679</td>\n",
       "      <td>2003</td>\n",
       "    </tr>\n",
       "    <tr>\n",
       "      <th>226</th>\n",
       "      <td>Aug</td>\n",
       "      <td>1.654</td>\n",
       "      <td>2003</td>\n",
       "    </tr>\n",
       "    <tr>\n",
       "      <th>227</th>\n",
       "      <td>Jul</td>\n",
       "      <td>1.561</td>\n",
       "      <td>2003</td>\n",
       "    </tr>\n",
       "    <tr>\n",
       "      <th>228</th>\n",
       "      <td>Jun</td>\n",
       "      <td>1.512</td>\n",
       "      <td>2003</td>\n",
       "    </tr>\n",
       "  </tbody>\n",
       "</table>\n",
       "<p>229 rows × 3 columns</p>\n",
       "</div>"
      ],
      "text/plain": [
       "    Month  Price  Year\n",
       "0     Jun  4.809  2022\n",
       "1     May  4.428  2022\n",
       "2     Apr  4.105  2022\n",
       "3     Mar  4.186  2022\n",
       "4     Feb   3.52  2022\n",
       "..    ...    ...   ...\n",
       "224   Oct  1.575  2003\n",
       "225   Sep  1.679  2003\n",
       "226   Aug  1.654  2003\n",
       "227   Jul  1.561  2003\n",
       "228   Jun  1.512  2003\n",
       "\n",
       "[229 rows x 3 columns]"
      ]
     },
     "execution_count": 24,
     "metadata": {},
     "output_type": "execute_result"
    }
   ],
   "source": [
    "df"
   ]
  },
  {
   "cell_type": "code",
   "execution_count": 25,
   "id": "eeb19256",
   "metadata": {},
   "outputs": [
    {
     "name": "stdout",
     "output_type": "stream",
     "text": [
      "<class 'pandas.core.frame.DataFrame'>\n",
      "RangeIndex: 229 entries, 0 to 228\n",
      "Data columns (total 3 columns):\n",
      " #   Column  Non-Null Count  Dtype \n",
      "---  ------  --------------  ----- \n",
      " 0   Month   229 non-null    object\n",
      " 1   Price   229 non-null    object\n",
      " 2   Year    229 non-null    object\n",
      "dtypes: object(3)\n",
      "memory usage: 5.5+ KB\n"
     ]
    }
   ],
   "source": [
    "# Check for null values\n",
    "df.info()"
   ]
  },
  {
   "cell_type": "markdown",
   "id": "40cdd271",
   "metadata": {},
   "source": [
    "### Convert Columns to Numerics"
   ]
  },
  {
   "cell_type": "code",
   "execution_count": 83,
   "id": "7d09c422",
   "metadata": {},
   "outputs": [],
   "source": [
    "df[\"Price\"] = df[\"Price\"].astype(\"float\")\n",
    "df[\"Year\"] = df[\"Year\"].astype(\"datetime64[Y]\")"
   ]
  },
  {
   "cell_type": "code",
   "execution_count": 84,
   "id": "d830acaf",
   "metadata": {},
   "outputs": [
    {
     "data": {
      "text/html": [
       "<div>\n",
       "<style scoped>\n",
       "    .dataframe tbody tr th:only-of-type {\n",
       "        vertical-align: middle;\n",
       "    }\n",
       "\n",
       "    .dataframe tbody tr th {\n",
       "        vertical-align: top;\n",
       "    }\n",
       "\n",
       "    .dataframe thead th {\n",
       "        text-align: right;\n",
       "    }\n",
       "</style>\n",
       "<table border=\"1\" class=\"dataframe\">\n",
       "  <thead>\n",
       "    <tr style=\"text-align: right;\">\n",
       "      <th></th>\n",
       "      <th>Price</th>\n",
       "      <th>Year</th>\n",
       "      <th>Month_Aug</th>\n",
       "      <th>Month_Dec</th>\n",
       "      <th>Month_Feb</th>\n",
       "      <th>Month_Jan</th>\n",
       "      <th>Month_Jul</th>\n",
       "      <th>Month_Jun</th>\n",
       "      <th>Month_Mar</th>\n",
       "      <th>Month_May</th>\n",
       "      <th>Month_Nov</th>\n",
       "      <th>Month_Oct</th>\n",
       "      <th>Month_Sep</th>\n",
       "    </tr>\n",
       "  </thead>\n",
       "  <tbody>\n",
       "    <tr>\n",
       "      <th>228</th>\n",
       "      <td>1.512</td>\n",
       "      <td>2003-01-01</td>\n",
       "      <td>0</td>\n",
       "      <td>0</td>\n",
       "      <td>0</td>\n",
       "      <td>0</td>\n",
       "      <td>0</td>\n",
       "      <td>1</td>\n",
       "      <td>0</td>\n",
       "      <td>0</td>\n",
       "      <td>0</td>\n",
       "      <td>0</td>\n",
       "      <td>0</td>\n",
       "    </tr>\n",
       "    <tr>\n",
       "      <th>222</th>\n",
       "      <td>1.535</td>\n",
       "      <td>2003-01-01</td>\n",
       "      <td>0</td>\n",
       "      <td>1</td>\n",
       "      <td>0</td>\n",
       "      <td>0</td>\n",
       "      <td>0</td>\n",
       "      <td>0</td>\n",
       "      <td>0</td>\n",
       "      <td>0</td>\n",
       "      <td>0</td>\n",
       "      <td>0</td>\n",
       "      <td>0</td>\n",
       "    </tr>\n",
       "    <tr>\n",
       "      <th>223</th>\n",
       "      <td>1.536</td>\n",
       "      <td>2003-01-01</td>\n",
       "      <td>0</td>\n",
       "      <td>0</td>\n",
       "      <td>0</td>\n",
       "      <td>0</td>\n",
       "      <td>0</td>\n",
       "      <td>0</td>\n",
       "      <td>0</td>\n",
       "      <td>0</td>\n",
       "      <td>1</td>\n",
       "      <td>0</td>\n",
       "      <td>0</td>\n",
       "    </tr>\n",
       "    <tr>\n",
       "      <th>227</th>\n",
       "      <td>1.561</td>\n",
       "      <td>2003-01-01</td>\n",
       "      <td>0</td>\n",
       "      <td>0</td>\n",
       "      <td>0</td>\n",
       "      <td>0</td>\n",
       "      <td>1</td>\n",
       "      <td>0</td>\n",
       "      <td>0</td>\n",
       "      <td>0</td>\n",
       "      <td>0</td>\n",
       "      <td>0</td>\n",
       "      <td>0</td>\n",
       "    </tr>\n",
       "    <tr>\n",
       "      <th>225</th>\n",
       "      <td>1.679</td>\n",
       "      <td>2003-01-01</td>\n",
       "      <td>0</td>\n",
       "      <td>0</td>\n",
       "      <td>0</td>\n",
       "      <td>0</td>\n",
       "      <td>0</td>\n",
       "      <td>0</td>\n",
       "      <td>0</td>\n",
       "      <td>0</td>\n",
       "      <td>0</td>\n",
       "      <td>0</td>\n",
       "      <td>1</td>\n",
       "    </tr>\n",
       "    <tr>\n",
       "      <th>226</th>\n",
       "      <td>1.654</td>\n",
       "      <td>2003-01-01</td>\n",
       "      <td>1</td>\n",
       "      <td>0</td>\n",
       "      <td>0</td>\n",
       "      <td>0</td>\n",
       "      <td>0</td>\n",
       "      <td>0</td>\n",
       "      <td>0</td>\n",
       "      <td>0</td>\n",
       "      <td>0</td>\n",
       "      <td>0</td>\n",
       "      <td>0</td>\n",
       "    </tr>\n",
       "    <tr>\n",
       "      <th>224</th>\n",
       "      <td>1.575</td>\n",
       "      <td>2003-01-01</td>\n",
       "      <td>0</td>\n",
       "      <td>0</td>\n",
       "      <td>0</td>\n",
       "      <td>0</td>\n",
       "      <td>0</td>\n",
       "      <td>0</td>\n",
       "      <td>0</td>\n",
       "      <td>0</td>\n",
       "      <td>0</td>\n",
       "      <td>1</td>\n",
       "      <td>0</td>\n",
       "    </tr>\n",
       "    <tr>\n",
       "      <th>216</th>\n",
       "      <td>2.036</td>\n",
       "      <td>2004-01-01</td>\n",
       "      <td>0</td>\n",
       "      <td>0</td>\n",
       "      <td>0</td>\n",
       "      <td>0</td>\n",
       "      <td>0</td>\n",
       "      <td>1</td>\n",
       "      <td>0</td>\n",
       "      <td>0</td>\n",
       "      <td>0</td>\n",
       "      <td>0</td>\n",
       "      <td>0</td>\n",
       "    </tr>\n",
       "    <tr>\n",
       "      <th>221</th>\n",
       "      <td>1.660</td>\n",
       "      <td>2004-01-01</td>\n",
       "      <td>0</td>\n",
       "      <td>0</td>\n",
       "      <td>0</td>\n",
       "      <td>1</td>\n",
       "      <td>0</td>\n",
       "      <td>0</td>\n",
       "      <td>0</td>\n",
       "      <td>0</td>\n",
       "      <td>0</td>\n",
       "      <td>0</td>\n",
       "      <td>0</td>\n",
       "    </tr>\n",
       "    <tr>\n",
       "      <th>220</th>\n",
       "      <td>1.712</td>\n",
       "      <td>2004-01-01</td>\n",
       "      <td>0</td>\n",
       "      <td>0</td>\n",
       "      <td>1</td>\n",
       "      <td>0</td>\n",
       "      <td>0</td>\n",
       "      <td>0</td>\n",
       "      <td>0</td>\n",
       "      <td>0</td>\n",
       "      <td>0</td>\n",
       "      <td>0</td>\n",
       "      <td>0</td>\n",
       "    </tr>\n",
       "  </tbody>\n",
       "</table>\n",
       "</div>"
      ],
      "text/plain": [
       "     Price       Year  Month_Aug  Month_Dec  Month_Feb  Month_Jan  Month_Jul  \\\n",
       "228  1.512 2003-01-01          0          0          0          0          0   \n",
       "222  1.535 2003-01-01          0          1          0          0          0   \n",
       "223  1.536 2003-01-01          0          0          0          0          0   \n",
       "227  1.561 2003-01-01          0          0          0          0          1   \n",
       "225  1.679 2003-01-01          0          0          0          0          0   \n",
       "226  1.654 2003-01-01          1          0          0          0          0   \n",
       "224  1.575 2003-01-01          0          0          0          0          0   \n",
       "216  2.036 2004-01-01          0          0          0          0          0   \n",
       "221  1.660 2004-01-01          0          0          0          1          0   \n",
       "220  1.712 2004-01-01          0          0          1          0          0   \n",
       "\n",
       "     Month_Jun  Month_Mar  Month_May  Month_Nov  Month_Oct  Month_Sep  \n",
       "228          1          0          0          0          0          0  \n",
       "222          0          0          0          0          0          0  \n",
       "223          0          0          0          1          0          0  \n",
       "227          0          0          0          0          0          0  \n",
       "225          0          0          0          0          0          1  \n",
       "226          0          0          0          0          0          0  \n",
       "224          0          0          0          0          1          0  \n",
       "216          1          0          0          0          0          0  \n",
       "221          0          0          0          0          0          0  \n",
       "220          0          0          0          0          0          0  "
      ]
     },
     "execution_count": 84,
     "metadata": {},
     "output_type": "execute_result"
    }
   ],
   "source": [
    "df_dum = pd.get_dummies(df, columns=[\"Month\"], drop_first= True)\n",
    "df_dum.head(10)"
   ]
  },
  {
   "cell_type": "code",
   "execution_count": 85,
   "id": "69ed907b",
   "metadata": {
    "scrolled": false
   },
   "outputs": [
    {
     "name": "stdout",
     "output_type": "stream",
     "text": [
      "<class 'pandas.core.frame.DataFrame'>\n",
      "Int64Index: 229 entries, 228 to 0\n",
      "Data columns (total 3 columns):\n",
      " #   Column  Non-Null Count  Dtype         \n",
      "---  ------  --------------  -----         \n",
      " 0   Month   229 non-null    object        \n",
      " 1   Price   229 non-null    float64       \n",
      " 2   Year    229 non-null    datetime64[ns]\n",
      "dtypes: datetime64[ns](1), float64(1), object(1)\n",
      "memory usage: 7.2+ KB\n"
     ]
    }
   ],
   "source": [
    "df.info()"
   ]
  },
  {
   "cell_type": "code",
   "execution_count": 86,
   "id": "71ec3359",
   "metadata": {},
   "outputs": [],
   "source": [
    "df_dum[\"Year\"] = df_dum[\"Year\"].dt.year"
   ]
  },
  {
   "cell_type": "markdown",
   "id": "9e492926",
   "metadata": {},
   "source": [
    "# Phase Four: Analyze"
   ]
  },
  {
   "cell_type": "code",
   "execution_count": 32,
   "id": "82016706",
   "metadata": {},
   "outputs": [
    {
     "data": {
      "text/plain": [
       "count    229.000000\n",
       "mean       2.771624\n",
       "std        0.642355\n",
       "min        1.512000\n",
       "25%        2.306000\n",
       "50%        2.704000\n",
       "75%        3.268000\n",
       "max        4.809000\n",
       "Name: Price, dtype: float64"
      ]
     },
     "execution_count": 32,
     "metadata": {},
     "output_type": "execute_result"
    }
   ],
   "source": [
    "# Pull general Statistics\n",
    "df[\"Price\"].describe()"
   ]
  },
  {
   "cell_type": "code",
   "execution_count": 33,
   "id": "80b87315",
   "metadata": {
    "scrolled": true
   },
   "outputs": [],
   "source": [
    "# plot mean price per month\n",
    "unique_years = np.sort(df[\"Year\"].dt.year.unique())\n",
    "y_axis = df.groupby(\"Year\")[\"Price\"].mean()\n",
    "x_axis = np.sort(unique_years)"
   ]
  },
  {
   "cell_type": "code",
   "execution_count": 34,
   "id": "a6d33413",
   "metadata": {},
   "outputs": [
    {
     "data": {
      "image/png": "[encoded data removed]",
      "text/plain": [
       "<Figure size 1080x720 with 1 Axes>"
      ]
     },
     "metadata": {},
     "output_type": "display_data"
    }
   ],
   "source": [
    "default_x_ticks = range(len(x_axis))\n",
    "\n",
    "plt.figure(figsize=(15,10))\n",
    "plt.plot(default_x_ticks, y_axis)\n",
    "plt.xticks(default_x_ticks, x_axis)\n",
    "plt.xticks(rotation=50)\n",
    "plt.ylabel(\"Prices\")\n",
    "plt.xlabel(\"Year\")\n",
    "plt.title(\"Average Gas Price Per Year\")\n",
    "plt.show()"
   ]
  },
  {
   "cell_type": "code",
   "execution_count": 38,
   "id": "64b3e303",
   "metadata": {},
   "outputs": [
    {
     "data": {
      "image/png": "[encoded data removed]",
      "text/plain": [
       "<Figure size 1080x720 with 1 Axes>"
      ]
     },
     "metadata": {},
     "output_type": "display_data"
    }
   ],
   "source": [
    "# view distribution of price changes\n",
    "\n",
    "price_changes =  round(np.log(df[\"Price\"]).diff(), 2)\n",
    "price_changes.hist(bins=50, figsize=(15,10))\n",
    "plt.show()"
   ]
  },
  {
   "cell_type": "markdown",
   "id": "b1ac8912",
   "metadata": {},
   "source": [
    "Change in gas price central tendency is 10 cents month over month."
   ]
  },
  {
   "cell_type": "code",
   "execution_count": 103,
   "id": "5e283b18",
   "metadata": {},
   "outputs": [
    {
     "data": {
      "image/png": "[encoded data removed]",
      "text/plain": [
       "<Figure size 720x720 with 1 Axes>"
      ]
     },
     "metadata": {},
     "output_type": "display_data"
    }
   ],
   "source": [
    "price_changes.plot(figsize=(10,10))\n",
    "plt.axhline(y=0, color='r', linestyle='-')\n",
    "plt.title(\"Price Changes Last 220 Months\")\n",
    "plt.ylabel(\"Amount (cents)\")\n",
    "plt.xlabel(\"Num Months\")\n",
    "\n",
    "plt.show()"
   ]
  },
  {
   "cell_type": "code",
   "execution_count": 28,
   "id": "cdd5ca16",
   "metadata": {
    "scrolled": true
   },
   "outputs": [
    {
     "data": {
      "text/plain": [
       "count    228.000000\n",
       "mean      -0.004868\n",
       "std        0.064838\n",
       "min       -0.170000\n",
       "25%       -0.040000\n",
       "50%       -0.010000\n",
       "75%        0.022500\n",
       "max        0.360000\n",
       "Name: Price, dtype: float64"
      ]
     },
     "execution_count": 28,
     "metadata": {},
     "output_type": "execute_result"
    }
   ],
   "source": [
    "price_changes.describe()"
   ]
  },
  {
   "cell_type": "code",
   "execution_count": null,
   "id": "b23d472d",
   "metadata": {},
   "outputs": [],
   "source": []
  },
  {
   "cell_type": "markdown",
   "id": "795df5b9",
   "metadata": {},
   "source": [
    "### Featuer Engineering"
   ]
  },
  {
   "cell_type": "code",
   "execution_count": 58,
   "id": "b5f1f9e8",
   "metadata": {},
   "outputs": [],
   "source": [
    "# Create 1 month trailing price column\n",
    "df_dum[\"Price lag_1\"] = df_dum[\"Price\"].shift(1)"
   ]
  },
  {
   "cell_type": "code",
   "execution_count": 59,
   "id": "f2677ff1",
   "metadata": {},
   "outputs": [
    {
     "data": {
      "text/html": [
       "<div>\n",
       "<style scoped>\n",
       "    .dataframe tbody tr th:only-of-type {\n",
       "        vertical-align: middle;\n",
       "    }\n",
       "\n",
       "    .dataframe tbody tr th {\n",
       "        vertical-align: top;\n",
       "    }\n",
       "\n",
       "    .dataframe thead th {\n",
       "        text-align: right;\n",
       "    }\n",
       "</style>\n",
       "<table border=\"1\" class=\"dataframe\">\n",
       "  <thead>\n",
       "    <tr style=\"text-align: right;\">\n",
       "      <th></th>\n",
       "      <th>Price</th>\n",
       "      <th>Price lag_1</th>\n",
       "      <th>Year</th>\n",
       "      <th>Month_Aug</th>\n",
       "      <th>Month_Dec</th>\n",
       "      <th>Month_Feb</th>\n",
       "      <th>Month_Jan</th>\n",
       "      <th>Month_Jul</th>\n",
       "      <th>Month_Jun</th>\n",
       "      <th>Month_Mar</th>\n",
       "      <th>Month_May</th>\n",
       "      <th>Month_Nov</th>\n",
       "      <th>Month_Oct</th>\n",
       "      <th>Month_Sep</th>\n",
       "    </tr>\n",
       "  </thead>\n",
       "  <tbody>\n",
       "    <tr>\n",
       "      <th>0</th>\n",
       "      <td>4.809</td>\n",
       "      <td>NaN</td>\n",
       "      <td>2022</td>\n",
       "      <td>0</td>\n",
       "      <td>0</td>\n",
       "      <td>0</td>\n",
       "      <td>0</td>\n",
       "      <td>0</td>\n",
       "      <td>1</td>\n",
       "      <td>0</td>\n",
       "      <td>0</td>\n",
       "      <td>0</td>\n",
       "      <td>0</td>\n",
       "      <td>0</td>\n",
       "    </tr>\n",
       "    <tr>\n",
       "      <th>1</th>\n",
       "      <td>4.428</td>\n",
       "      <td>4.809</td>\n",
       "      <td>2022</td>\n",
       "      <td>0</td>\n",
       "      <td>0</td>\n",
       "      <td>0</td>\n",
       "      <td>0</td>\n",
       "      <td>0</td>\n",
       "      <td>0</td>\n",
       "      <td>0</td>\n",
       "      <td>1</td>\n",
       "      <td>0</td>\n",
       "      <td>0</td>\n",
       "      <td>0</td>\n",
       "    </tr>\n",
       "    <tr>\n",
       "      <th>2</th>\n",
       "      <td>4.105</td>\n",
       "      <td>4.428</td>\n",
       "      <td>2022</td>\n",
       "      <td>0</td>\n",
       "      <td>0</td>\n",
       "      <td>0</td>\n",
       "      <td>0</td>\n",
       "      <td>0</td>\n",
       "      <td>0</td>\n",
       "      <td>0</td>\n",
       "      <td>0</td>\n",
       "      <td>0</td>\n",
       "      <td>0</td>\n",
       "      <td>0</td>\n",
       "    </tr>\n",
       "    <tr>\n",
       "      <th>3</th>\n",
       "      <td>4.186</td>\n",
       "      <td>4.105</td>\n",
       "      <td>2022</td>\n",
       "      <td>0</td>\n",
       "      <td>0</td>\n",
       "      <td>0</td>\n",
       "      <td>0</td>\n",
       "      <td>0</td>\n",
       "      <td>0</td>\n",
       "      <td>1</td>\n",
       "      <td>0</td>\n",
       "      <td>0</td>\n",
       "      <td>0</td>\n",
       "      <td>0</td>\n",
       "    </tr>\n",
       "    <tr>\n",
       "      <th>4</th>\n",
       "      <td>3.520</td>\n",
       "      <td>4.186</td>\n",
       "      <td>2022</td>\n",
       "      <td>0</td>\n",
       "      <td>0</td>\n",
       "      <td>1</td>\n",
       "      <td>0</td>\n",
       "      <td>0</td>\n",
       "      <td>0</td>\n",
       "      <td>0</td>\n",
       "      <td>0</td>\n",
       "      <td>0</td>\n",
       "      <td>0</td>\n",
       "      <td>0</td>\n",
       "    </tr>\n",
       "  </tbody>\n",
       "</table>\n",
       "</div>"
      ],
      "text/plain": [
       "   Price  Price lag_1  Year  Month_Aug  Month_Dec  Month_Feb  Month_Jan  \\\n",
       "0  4.809          NaN  2022          0          0          0          0   \n",
       "1  4.428        4.809  2022          0          0          0          0   \n",
       "2  4.105        4.428  2022          0          0          0          0   \n",
       "3  4.186        4.105  2022          0          0          0          0   \n",
       "4  3.520        4.186  2022          0          0          1          0   \n",
       "\n",
       "   Month_Jul  Month_Jun  Month_Mar  Month_May  Month_Nov  Month_Oct  Month_Sep  \n",
       "0          0          1          0          0          0          0          0  \n",
       "1          0          0          0          1          0          0          0  \n",
       "2          0          0          0          0          0          0          0  \n",
       "3          0          0          1          0          0          0          0  \n",
       "4          0          0          0          0          0          0          0  "
      ]
     },
     "execution_count": 59,
     "metadata": {},
     "output_type": "execute_result"
    }
   ],
   "source": [
    "df_dum.head()"
   ]
  },
  {
   "cell_type": "code",
   "execution_count": 60,
   "id": "1a1cc557",
   "metadata": {},
   "outputs": [],
   "source": [
    "# Lets change the position of the price lag column"
   ]
  },
  {
   "cell_type": "code",
   "execution_count": 61,
   "id": "08bc31e6",
   "metadata": {},
   "outputs": [],
   "source": [
    "df_dum.insert(1, 'Price lag_1', df_dum.pop('Price lag_1'))"
   ]
  },
  {
   "cell_type": "code",
   "execution_count": 62,
   "id": "9820fa33",
   "metadata": {},
   "outputs": [
    {
     "data": {
      "text/html": [
       "<div>\n",
       "<style scoped>\n",
       "    .dataframe tbody tr th:only-of-type {\n",
       "        vertical-align: middle;\n",
       "    }\n",
       "\n",
       "    .dataframe tbody tr th {\n",
       "        vertical-align: top;\n",
       "    }\n",
       "\n",
       "    .dataframe thead th {\n",
       "        text-align: right;\n",
       "    }\n",
       "</style>\n",
       "<table border=\"1\" class=\"dataframe\">\n",
       "  <thead>\n",
       "    <tr style=\"text-align: right;\">\n",
       "      <th></th>\n",
       "      <th>Price</th>\n",
       "      <th>Price lag_1</th>\n",
       "      <th>Year</th>\n",
       "      <th>Month_Aug</th>\n",
       "      <th>Month_Dec</th>\n",
       "      <th>Month_Feb</th>\n",
       "      <th>Month_Jan</th>\n",
       "      <th>Month_Jul</th>\n",
       "      <th>Month_Jun</th>\n",
       "      <th>Month_Mar</th>\n",
       "      <th>Month_May</th>\n",
       "      <th>Month_Nov</th>\n",
       "      <th>Month_Oct</th>\n",
       "      <th>Month_Sep</th>\n",
       "    </tr>\n",
       "  </thead>\n",
       "  <tbody>\n",
       "    <tr>\n",
       "      <th>0</th>\n",
       "      <td>4.809</td>\n",
       "      <td>NaN</td>\n",
       "      <td>2022</td>\n",
       "      <td>0</td>\n",
       "      <td>0</td>\n",
       "      <td>0</td>\n",
       "      <td>0</td>\n",
       "      <td>0</td>\n",
       "      <td>1</td>\n",
       "      <td>0</td>\n",
       "      <td>0</td>\n",
       "      <td>0</td>\n",
       "      <td>0</td>\n",
       "      <td>0</td>\n",
       "    </tr>\n",
       "    <tr>\n",
       "      <th>1</th>\n",
       "      <td>4.428</td>\n",
       "      <td>4.809</td>\n",
       "      <td>2022</td>\n",
       "      <td>0</td>\n",
       "      <td>0</td>\n",
       "      <td>0</td>\n",
       "      <td>0</td>\n",
       "      <td>0</td>\n",
       "      <td>0</td>\n",
       "      <td>0</td>\n",
       "      <td>1</td>\n",
       "      <td>0</td>\n",
       "      <td>0</td>\n",
       "      <td>0</td>\n",
       "    </tr>\n",
       "    <tr>\n",
       "      <th>2</th>\n",
       "      <td>4.105</td>\n",
       "      <td>4.428</td>\n",
       "      <td>2022</td>\n",
       "      <td>0</td>\n",
       "      <td>0</td>\n",
       "      <td>0</td>\n",
       "      <td>0</td>\n",
       "      <td>0</td>\n",
       "      <td>0</td>\n",
       "      <td>0</td>\n",
       "      <td>0</td>\n",
       "      <td>0</td>\n",
       "      <td>0</td>\n",
       "      <td>0</td>\n",
       "    </tr>\n",
       "    <tr>\n",
       "      <th>3</th>\n",
       "      <td>4.186</td>\n",
       "      <td>4.105</td>\n",
       "      <td>2022</td>\n",
       "      <td>0</td>\n",
       "      <td>0</td>\n",
       "      <td>0</td>\n",
       "      <td>0</td>\n",
       "      <td>0</td>\n",
       "      <td>0</td>\n",
       "      <td>1</td>\n",
       "      <td>0</td>\n",
       "      <td>0</td>\n",
       "      <td>0</td>\n",
       "      <td>0</td>\n",
       "    </tr>\n",
       "    <tr>\n",
       "      <th>4</th>\n",
       "      <td>3.520</td>\n",
       "      <td>4.186</td>\n",
       "      <td>2022</td>\n",
       "      <td>0</td>\n",
       "      <td>0</td>\n",
       "      <td>1</td>\n",
       "      <td>0</td>\n",
       "      <td>0</td>\n",
       "      <td>0</td>\n",
       "      <td>0</td>\n",
       "      <td>0</td>\n",
       "      <td>0</td>\n",
       "      <td>0</td>\n",
       "      <td>0</td>\n",
       "    </tr>\n",
       "  </tbody>\n",
       "</table>\n",
       "</div>"
      ],
      "text/plain": [
       "   Price  Price lag_1  Year  Month_Aug  Month_Dec  Month_Feb  Month_Jan  \\\n",
       "0  4.809          NaN  2022          0          0          0          0   \n",
       "1  4.428        4.809  2022          0          0          0          0   \n",
       "2  4.105        4.428  2022          0          0          0          0   \n",
       "3  4.186        4.105  2022          0          0          0          0   \n",
       "4  3.520        4.186  2022          0          0          1          0   \n",
       "\n",
       "   Month_Jul  Month_Jun  Month_Mar  Month_May  Month_Nov  Month_Oct  Month_Sep  \n",
       "0          0          1          0          0          0          0          0  \n",
       "1          0          0          0          1          0          0          0  \n",
       "2          0          0          0          0          0          0          0  \n",
       "3          0          0          1          0          0          0          0  \n",
       "4          0          0          0          0          0          0          0  "
      ]
     },
     "execution_count": 62,
     "metadata": {},
     "output_type": "execute_result"
    }
   ],
   "source": [
    "df_dum.head()"
   ]
  },
  {
   "cell_type": "code",
   "execution_count": 63,
   "id": "911236c7",
   "metadata": {},
   "outputs": [],
   "source": [
    "# Drop null values\n",
    "df_dum.dropna(inplace= True)"
   ]
  },
  {
   "cell_type": "markdown",
   "id": "b28a8c63",
   "metadata": {},
   "source": [
    "## Modeling\n",
    "We are going to build a model that predicts average gas price for next month."
   ]
  },
  {
   "cell_type": "code",
   "execution_count": 106,
   "id": "ed42a5eb",
   "metadata": {},
   "outputs": [],
   "source": [
    "#Split data\n",
    "\n",
    "X = df_dum.drop(\"Price\", axis= 1)\n",
    "y = df_dum[\"Price\"]"
   ]
  },
  {
   "cell_type": "code",
   "execution_count": 107,
   "id": "c3118d68",
   "metadata": {},
   "outputs": [
    {
     "data": {
      "text/plain": [
       "((183, 12), (46, 12), (183,), (46,))"
      ]
     },
     "execution_count": 107,
     "metadata": {},
     "output_type": "execute_result"
    }
   ],
   "source": [
    "# train/ test split\n",
    "from sklearn.model_selection import train_test_split\n",
    "\n",
    "X_train, X_test, y_train, y_test = train_test_split(X, y, test_size= .20)\n",
    "\n",
    "X_train.shape, X_test.shape, y_train.shape, y_test.shape"
   ]
  },
  {
   "cell_type": "code",
   "execution_count": 108,
   "id": "85d1e28d",
   "metadata": {},
   "outputs": [
    {
     "data": {
      "text/plain": [
       "LinearRegression(copy_X=True, fit_intercept=True, n_jobs=None, normalize=False)"
      ]
     },
     "execution_count": 108,
     "metadata": {},
     "output_type": "execute_result"
    }
   ],
   "source": [
    "# import model\n",
    "from sklearn.linear_model import LinearRegression\n",
    "\n",
    "model_lin = LinearRegression()\n",
    "\n",
    "# Fit model\n",
    "model_lin.fit(X_train, y_train)"
   ]
  },
  {
   "cell_type": "code",
   "execution_count": 109,
   "id": "2d3fcc33",
   "metadata": {},
   "outputs": [
    {
     "data": {
      "text/plain": [
       "array([2.84160754, 2.80644358, 2.79704102, 2.47188584, 2.67051209,\n",
       "       3.06861963, 2.65046076, 2.7232247 , 2.67865818, 2.834641  ,\n",
       "       2.98015556, 2.59381795, 2.88953847, 2.97867151, 2.92906405,\n",
       "       2.95720333, 2.33818628, 2.6281775 , 2.53873562, 2.81764775,\n",
       "       2.69279535, 2.91330578, 2.70238304, 2.61610121, 2.67274402,\n",
       "       2.98247773, 2.67122724, 3.10733013, 2.4941691 , 2.57905688,\n",
       "       2.71731054, 2.46011839, 2.48240165, 2.85692426, 2.54925143,\n",
       "       2.41555187, 2.57153469, 2.52267536, 2.79536449, 3.08504687,\n",
       "       3.06276361, 2.66670587, 3.11318615, 2.8360826 , 2.7246663 ,\n",
       "       2.80040543])"
      ]
     },
     "execution_count": 109,
     "metadata": {},
     "output_type": "execute_result"
    }
   ],
   "source": [
    "lin_preds = model_lin.predict(X_test)\n",
    "lin_preds"
   ]
  },
  {
   "cell_type": "code",
   "execution_count": 110,
   "id": "0a2fb2d6",
   "metadata": {},
   "outputs": [
    {
     "data": {
      "text/plain": [
       "0.08190268652950194"
      ]
     },
     "execution_count": 110,
     "metadata": {},
     "output_type": "execute_result"
    }
   ],
   "source": [
    "model_lin.score(X_train, y_train)"
   ]
  },
  {
   "cell_type": "markdown",
   "id": "18f48058",
   "metadata": {},
   "source": [
    "The model is 93% accurate in predict gas prices"
   ]
  },
  {
   "cell_type": "code",
   "execution_count": 111,
   "id": "67aced19",
   "metadata": {},
   "outputs": [
    {
     "data": {
      "text/plain": [
       "RandomForestRegressor(bootstrap=True, ccp_alpha=0.0, criterion='mse',\n",
       "                      max_depth=None, max_features='auto', max_leaf_nodes=None,\n",
       "                      max_samples=None, min_impurity_decrease=0.0,\n",
       "                      min_impurity_split=None, min_samples_leaf=1,\n",
       "                      min_samples_split=2, min_weight_fraction_leaf=0.0,\n",
       "                      n_estimators=100, n_jobs=None, oob_score=False,\n",
       "                      random_state=None, verbose=0, warm_start=False)"
      ]
     },
     "execution_count": 111,
     "metadata": {},
     "output_type": "execute_result"
    }
   ],
   "source": [
    "# import model 2 \n",
    "from sklearn.ensemble import RandomForestRegressor\n",
    "model_rg = RandomForestRegressor()\n",
    "model_rg.fit(X_train, y_train)"
   ]
  },
  {
   "cell_type": "code",
   "execution_count": 112,
   "id": "bb2ea1b8",
   "metadata": {},
   "outputs": [
    {
     "data": {
      "text/plain": [
       "0.9763860422976336"
      ]
     },
     "execution_count": 112,
     "metadata": {},
     "output_type": "execute_result"
    }
   ],
   "source": [
    "model_rg.score(X_train, y_train)"
   ]
  },
  {
   "cell_type": "code",
   "execution_count": 113,
   "id": "dc369f1e",
   "metadata": {},
   "outputs": [
    {
     "data": {
      "text/plain": [
       "array([3.58523, 2.48126, 2.41053, 2.1064 , 1.89709, 2.4961 , 3.84679,\n",
       "       2.20828, 3.70579, 3.00233, 3.00004, 3.63787, 2.54231, 2.99936,\n",
       "       3.65873, 2.91186, 1.58278, 3.75449, 3.40918, 3.50121, 2.30982,\n",
       "       2.75009, 2.20288, 2.45815, 3.63497, 2.78362, 3.05463, 3.00047,\n",
       "       2.57608, 1.62142, 2.2965 , 3.50127, 2.23132, 4.21674, 3.71557,\n",
       "       2.84219, 3.59713, 2.81649, 3.00421, 2.16944, 2.48457, 3.10628,\n",
       "       2.60493, 4.21674, 2.48677, 3.51108])"
      ]
     },
     "execution_count": 113,
     "metadata": {},
     "output_type": "execute_result"
    }
   ],
   "source": [
    "## test data\n",
    "reg_preds = model_rg.predict(X_test)\n",
    "reg_preds"
   ]
  },
  {
   "cell_type": "code",
   "execution_count": 114,
   "id": "392eb77f",
   "metadata": {},
   "outputs": [
    {
     "data": {
      "text/plain": [
       "0.5957240573327016"
      ]
     },
     "execution_count": 114,
     "metadata": {},
     "output_type": "execute_result"
    }
   ],
   "source": [
    "model_rg.score(X_test, y_test)"
   ]
  },
  {
   "cell_type": "code",
   "execution_count": 115,
   "id": "9f722bad",
   "metadata": {},
   "outputs": [],
   "source": [
    "import xgboost as xgb\n"
   ]
  },
  {
   "cell_type": "code",
   "execution_count": 116,
   "id": "c0e00cda",
   "metadata": {},
   "outputs": [],
   "source": [
    "# Create and Train model\n",
    "\n",
    "model_xgb = xgb.XGBRegressor(objective ='reg:linear',\n",
    "                  n_estimators = 10, seed = 123)"
   ]
  },
  {
   "cell_type": "code",
   "execution_count": 117,
   "id": "b509dee0",
   "metadata": {
    "scrolled": true
   },
   "outputs": [
    {
     "name": "stdout",
     "output_type": "stream",
     "text": [
      "[18:22:25] WARNING: C:/Users/Administrator/workspace/xgboost-win64_release_1.6.0/src/objective/regression_obj.cu:203: reg:linear is now deprecated in favor of reg:squarederror.\n"
     ]
    },
    {
     "data": {
      "text/plain": [
       "XGBRegressor(base_score=0.5, booster='gbtree', callbacks=None,\n",
       "             colsample_bylevel=1, colsample_bynode=1, colsample_bytree=1,\n",
       "             early_stopping_rounds=None, enable_categorical=False,\n",
       "             eval_metric=None, gamma=0, gpu_id=-1, grow_policy='depthwise',\n",
       "             importance_type=None, interaction_constraints='',\n",
       "             learning_rate=0.300000012, max_bin=256, max_cat_to_onehot=4,\n",
       "             max_delta_step=0, max_depth=6, max_leaves=0, min_child_weight=1,\n",
       "             missing=nan, monotone_constraints='()', n_estimators=10, n_jobs=0,\n",
       "             num_parallel_tree=1, objective='reg:linear', predictor='auto',\n",
       "             random_state=123, reg_alpha=0, ...)"
      ]
     },
     "execution_count": 117,
     "metadata": {},
     "output_type": "execute_result"
    }
   ],
   "source": [
    "#Fit model\n",
    "model_xgb.fit(X_train, y_train)\n"
   ]
  },
  {
   "cell_type": "code",
   "execution_count": 118,
   "id": "f9dc6dff",
   "metadata": {},
   "outputs": [
    {
     "data": {
      "text/plain": [
       "array([3.4655247, 2.3932626, 2.4606967, 2.1075466, 1.9422798, 2.3845637,\n",
       "       3.3971114, 2.3311524, 3.4255574, 2.9548116, 2.9170797, 3.437561 ,\n",
       "       2.516473 , 2.9548116, 3.4655247, 2.8102107, 1.5661839, 3.3971114,\n",
       "       3.236064 , 3.3394625, 2.3284447, 2.5079045, 2.3149602, 2.3845637,\n",
       "       3.3971114, 2.5456364, 2.8412979, 2.9548116, 2.6137056, 1.6398505,\n",
       "       2.210554 , 3.3394625, 2.4606967, 4.1075068, 3.4655247, 2.6882277,\n",
       "       3.4655247, 2.7172365, 2.8412979, 2.1781838, 2.4580514, 2.8412979,\n",
       "       2.516473 , 3.829403 , 2.4882772, 3.4655247], dtype=float32)"
      ]
     },
     "execution_count": 118,
     "metadata": {},
     "output_type": "execute_result"
    }
   ],
   "source": [
    "# Predict the model\n",
    "xgb_pred = model_xgb.predict(X_test)\n",
    "xgb_pred"
   ]
  },
  {
   "cell_type": "code",
   "execution_count": 119,
   "id": "fef51795",
   "metadata": {},
   "outputs": [
    {
     "data": {
      "text/plain": [
       "0.6675495246317117"
      ]
     },
     "execution_count": 119,
     "metadata": {},
     "output_type": "execute_result"
    }
   ],
   "source": [
    "model_xgb.score(X_test, y_test)"
   ]
  },
  {
   "cell_type": "code",
   "execution_count": 120,
   "id": "68c57092",
   "metadata": {},
   "outputs": [
    {
     "data": {
      "text/html": [
       "<div>\n",
       "<style scoped>\n",
       "    .dataframe tbody tr th:only-of-type {\n",
       "        vertical-align: middle;\n",
       "    }\n",
       "\n",
       "    .dataframe tbody tr th {\n",
       "        vertical-align: top;\n",
       "    }\n",
       "\n",
       "    .dataframe thead th {\n",
       "        text-align: right;\n",
       "    }\n",
       "</style>\n",
       "<table border=\"1\" class=\"dataframe\">\n",
       "  <thead>\n",
       "    <tr style=\"text-align: right;\">\n",
       "      <th></th>\n",
       "      <th>Price</th>\n",
       "      <th>Prediction</th>\n",
       "    </tr>\n",
       "  </thead>\n",
       "  <tbody>\n",
       "    <tr>\n",
       "      <th>0</th>\n",
       "      <td>3.658</td>\n",
       "      <td>3.465525</td>\n",
       "    </tr>\n",
       "    <tr>\n",
       "      <th>1</th>\n",
       "      <td>2.577</td>\n",
       "      <td>2.393263</td>\n",
       "    </tr>\n",
       "    <tr>\n",
       "      <th>2</th>\n",
       "      <td>2.671</td>\n",
       "      <td>2.460697</td>\n",
       "    </tr>\n",
       "    <tr>\n",
       "      <th>3</th>\n",
       "      <td>2.704</td>\n",
       "      <td>2.107547</td>\n",
       "    </tr>\n",
       "    <tr>\n",
       "      <th>4</th>\n",
       "      <td>1.929</td>\n",
       "      <td>1.942280</td>\n",
       "    </tr>\n",
       "  </tbody>\n",
       "</table>\n",
       "</div>"
      ],
      "text/plain": [
       "   Price  Prediction\n",
       "0  3.658    3.465525\n",
       "1  2.577    2.393263\n",
       "2  2.671    2.460697\n",
       "3  2.704    2.107547\n",
       "4  1.929    1.942280"
      ]
     },
     "execution_count": 120,
     "metadata": {},
     "output_type": "execute_result"
    }
   ],
   "source": [
    "df_compare = pd.DataFrame({\"Price\":y_test, \"Prediction\": xgb_pred}, index=None).reset_index(drop=True)\n",
    "df_compare.head()"
   ]
  },
  {
   "cell_type": "markdown",
   "id": "d97d07f7",
   "metadata": {},
   "source": [
    "# Phase 6: Share"
   ]
  },
  {
   "cell_type": "code",
   "execution_count": 125,
   "id": "44903f53",
   "metadata": {
    "scrolled": false
   },
   "outputs": [
    {
     "data": {
      "text/plain": [
       "Text(0.5, 1.0, 'Price Comparison - Predicted vs Actual')"
      ]
     },
     "execution_count": 125,
     "metadata": {},
     "output_type": "execute_result"
    },
    {
     "data": {
      "image/png": "[encoded data removed]",
      "text/plain": [
       "<Figure size 720x720 with 1 Axes>"
      ]
     },
     "metadata": {},
     "output_type": "display_data"
    }
   ],
   "source": [
    "# Compare Model predictions with actual values\n",
    "plt.figure(figsize=(10,10))\n",
    "plt.plot(df_compare[\"Price\"])\n",
    "plt.plot(df_compare[\"Prediction\"])\n",
    "plt.ylabel(\"Prices\")\n",
    "plt.xlabel(\"Num Months\")\n",
    "plt.title(\"Price Comparison - Predicted vs Actual\")\n"
   ]
  },
  {
   "cell_type": "markdown",
   "id": "68582b5b",
   "metadata": {},
   "source": [
    "# Final Results\n",
    "\n",
    "1. Our model is 68% accurate. In order to improve our model we need more data. The look back perioid should be increased.\n",
    "2. The use has not experience price levels this high since 2008 and 2012 respectively.\n",
    "3. Though relative volatilty has been management with 10 cent increases month over month, \n",
    "   it still represebts a 48% increase from the mean."
   ]
  },
  {
   "cell_type": "code",
   "execution_count": null,
   "id": "a97f66ec",
   "metadata": {},
   "outputs": [],
   "source": []
  }
 ],
 "metadata": {
  "kernelspec": {
   "display_name": "Python 3",
   "language": "python",
   "name": "python3"
  },
  "language_info": {
   "codemirror_mode": {
    "name": "ipython",
    "version": 3
   },
   "file_extension": ".py",
   "mimetype": "text/x-python",
   "name": "python",
   "nbconvert_exporter": "python",
   "pygments_lexer": "ipython3",
   "version": "3.8.8"
  }
 },
 "nbformat": 4,
 "nbformat_minor": 5
}
